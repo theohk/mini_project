{
 "cells": [
  {
   "cell_type": "code",
   "execution_count": 1,
   "metadata": {},
   "outputs": [
    {
     "name": "stdout",
     "output_type": "stream",
     "text": [
      "Best parameters for xG model: {'max_depth': None, 'min_samples_split': 5, 'n_estimators': 1000}\n",
      "Best negative mean squared error for xG model: -32.08880892841858\n",
      "Best parameters for xA model: {'max_depth': None, 'min_samples_split': 2, 'n_estimators': 500}\n",
      "Best negative mean squared error for xA model: -7.562981889239015\n"
     ]
    }
   ],
   "source": [
    "import pandas as pd\n",
    "from sklearn.ensemble import RandomForestRegressor\n",
    "from sklearn.model_selection import GridSearchCV\n",
    "\n",
    "# Load Bukayo Saka's data\n",
    "player_data = pd.read_csv('bukayo_player_data.csv')\n",
    "\n",
    "# Extracting the year from the 'Season' column\n",
    "player_data['Season'] = player_data['Season'].str.split('/').str[0]\n",
    "\n",
    "# Read team data\n",
    "team_data = pd.read_csv('arsenal_data.csv')\n",
    "\n",
    "# Extracting the year from the 'Season' column\n",
    "team_data['Season'] = team_data['Season'].str.split('/').str[0]\n",
    "\n",
    "# Merge Bukayo Saka's data with team data based on season and team\n",
    "merged_data = pd.merge(player_data, team_data, on=['Season', 'Team'])\n",
    "\n",
    "# Prepare data for modeling\n",
    "predicted_apps = 37  # Define the predicted number of appearances\n",
    "merged_data['xG_trend'] = merged_data['xG_x'] / merged_data['Apps_x'] * predicted_apps\n",
    "merged_data['xA_trend'] = merged_data['xA_x'] / merged_data['Apps_x'] * predicted_apps\n",
    "\n",
    "# Define features and target variables\n",
    "X_columns = ['Season', 'xG_x', 'xA_x', 'Apps_x', 'Min_x', 'G_x', 'A_x',\n",
    "             'Sh90_x', 'KP90_x', 'xG90_x', 'xA90_x', 'Apps_y', 'G_y', 'A_y',\n",
    "             'Sh90_y', 'KP90_y', 'xG_y', 'xA_y', 'xG90_y', 'xA90_y']\n",
    "X = merged_data[X_columns].astype(float)\n",
    "y_xG = merged_data['xG_trend'].values\n",
    "y_xA = merged_data['xA_trend'].values\n",
    "\n",
    "# Set up parameter grid for Random Forest\n",
    "param_grid = {\n",
    "    'n_estimators': [100, 500, 1000],\n",
    "    'max_depth': [None, 10, 20],\n",
    "    'min_samples_split': [2, 5, 10]\n",
    "}\n",
    "\n",
    "# Create Random Forest models\n",
    "model_xG = RandomForestRegressor(random_state=42)\n",
    "model_xA = RandomForestRegressor(random_state=42)\n",
    "\n",
    "# Create GridSearchCV objects\n",
    "grid_search_xG = GridSearchCV(estimator=model_xG, param_grid=param_grid, cv=5, scoring='neg_mean_squared_error')\n",
    "grid_search_xA = GridSearchCV(estimator=model_xA, param_grid=param_grid, cv=5, scoring='neg_mean_squared_error')\n",
    "\n",
    "# Fit models to find best parameters\n",
    "grid_search_xG.fit(X, y_xG)\n",
    "grid_search_xA.fit(X, y_xA)\n",
    "\n",
    "# Retrieve best parameters and best scores\n",
    "best_params_xG = grid_search_xG.best_params_\n",
    "best_score_xG = grid_search_xG.best_score_\n",
    "\n",
    "best_params_xA = grid_search_xA.best_params_\n",
    "best_score_xA = grid_search_xA.best_score_\n",
    "\n",
    "print(\"Best parameters for xG model:\", best_params_xG)\n",
    "print(\"Best negative mean squared error for xG model:\", best_score_xG)\n",
    "print(\"Best parameters for xA model:\", best_params_xA)\n",
    "print(\"Best negative mean squared error for xA model:\", best_score_xA)\n"
   ]
  },
  {
   "cell_type": "code",
   "execution_count": null,
   "metadata": {},
   "outputs": [],
   "source": []
  }
 ],
 "metadata": {
  "kernelspec": {
   "display_name": "myenv",
   "language": "python",
   "name": "python3"
  },
  "language_info": {
   "codemirror_mode": {
    "name": "ipython",
    "version": 3
   },
   "file_extension": ".py",
   "mimetype": "text/x-python",
   "name": "python",
   "nbconvert_exporter": "python",
   "pygments_lexer": "ipython3",
   "version": "3.10.13"
  }
 },
 "nbformat": 4,
 "nbformat_minor": 2
}
