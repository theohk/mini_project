{
 "cells": [
  {
   "cell_type": "code",
   "execution_count": 2,
   "metadata": {},
   "outputs": [],
   "source": [
    "import pandas as pd\n",
    "import numpy as np\n",
    "from sklearn.ensemble import RandomForestRegressor\n",
    "import matplotlib.pyplot as plt\n",
    "\n",
    "# Load Bukayo Saka's data\n",
    "saka_data = pd.read_csv('bukayo_saka_data.csv')\n",
    "\n",
    "# Extracting the year from the 'Season' column\n",
    "saka_data['Season'] = saka_data['Season'].str.split('/').str[0]\n",
    "\n",
    "# Read team data\n",
    "team_data = pd.read_csv('arsenal_data.csv')\n",
    "\n",
    "# Extracting the year from the 'Season' column\n",
    "team_data['Season'] = team_data['Season'].str.split('/').str[0]\n",
    "\n",
    "# Merge Bukayo Saka's data with team data based on season and team\n",
    "merged_data = pd.merge(saka_data, team_data, on=['Season', 'Team'])\n"
   ]
  },
  {
   "cell_type": "code",
   "execution_count": 3,
   "metadata": {},
   "outputs": [],
   "source": [
    "# Prepare data for modeling\n",
    "predicted_apps = 37  # Define the predicted number of appearances\n",
    "merged_data['xG_trend'] = merged_data['xG_x'] / merged_data['Apps_x'] * predicted_apps\n",
    "merged_data['xA_trend'] = merged_data['xA_x'] / merged_data['Apps_x'] * predicted_apps"
   ]
  },
  {
   "cell_type": "code",
   "execution_count": 4,
   "metadata": {},
   "outputs": [],
   "source": [
    "# Splitting data into training features and target variables\n",
    "X_columns = ['Season', 'xG_x', 'xA_x', 'Apps_x', 'Min_x', 'G_x', 'A_x',\n",
    "             'Sh90_x', 'KP90_x', 'xG90_x', 'xA90_x', 'Apps_y', 'G_y', 'A_y',\n",
    "             'Sh90_y', 'KP90_y', 'xG_y', 'xA_y', 'xG90_y', 'xA90_y']\n",
    "X = merged_data[X_columns].astype(float)\n",
    "y_xG = merged_data['xG_trend'].values\n",
    "y_xA = merged_data['xA_trend'].values\n"
   ]
  },
  {
   "cell_type": "code",
   "execution_count": 5,
   "metadata": {},
   "outputs": [],
   "source": [
    "model_xG = RandomForestRegressor(n_estimators=10000, random_state=42)\n",
    "model_xA = RandomForestRegressor(n_estimators=10000, random_state=42)"
   ]
  },
  {
   "cell_type": "code",
   "execution_count": 6,
   "metadata": {},
   "outputs": [
    {
     "data": {
      "text/html": [
       "<style>#sk-container-id-1 {color: black;}#sk-container-id-1 pre{padding: 0;}#sk-container-id-1 div.sk-toggleable {background-color: white;}#sk-container-id-1 label.sk-toggleable__label {cursor: pointer;display: block;width: 100%;margin-bottom: 0;padding: 0.3em;box-sizing: border-box;text-align: center;}#sk-container-id-1 label.sk-toggleable__label-arrow:before {content: \"▸\";float: left;margin-right: 0.25em;color: #696969;}#sk-container-id-1 label.sk-toggleable__label-arrow:hover:before {color: black;}#sk-container-id-1 div.sk-estimator:hover label.sk-toggleable__label-arrow:before {color: black;}#sk-container-id-1 div.sk-toggleable__content {max-height: 0;max-width: 0;overflow: hidden;text-align: left;background-color: #f0f8ff;}#sk-container-id-1 div.sk-toggleable__content pre {margin: 0.2em;color: black;border-radius: 0.25em;background-color: #f0f8ff;}#sk-container-id-1 input.sk-toggleable__control:checked~div.sk-toggleable__content {max-height: 200px;max-width: 100%;overflow: auto;}#sk-container-id-1 input.sk-toggleable__control:checked~label.sk-toggleable__label-arrow:before {content: \"▾\";}#sk-container-id-1 div.sk-estimator input.sk-toggleable__control:checked~label.sk-toggleable__label {background-color: #d4ebff;}#sk-container-id-1 div.sk-label input.sk-toggleable__control:checked~label.sk-toggleable__label {background-color: #d4ebff;}#sk-container-id-1 input.sk-hidden--visually {border: 0;clip: rect(1px 1px 1px 1px);clip: rect(1px, 1px, 1px, 1px);height: 1px;margin: -1px;overflow: hidden;padding: 0;position: absolute;width: 1px;}#sk-container-id-1 div.sk-estimator {font-family: monospace;background-color: #f0f8ff;border: 1px dotted black;border-radius: 0.25em;box-sizing: border-box;margin-bottom: 0.5em;}#sk-container-id-1 div.sk-estimator:hover {background-color: #d4ebff;}#sk-container-id-1 div.sk-parallel-item::after {content: \"\";width: 100%;border-bottom: 1px solid gray;flex-grow: 1;}#sk-container-id-1 div.sk-label:hover label.sk-toggleable__label {background-color: #d4ebff;}#sk-container-id-1 div.sk-serial::before {content: \"\";position: absolute;border-left: 1px solid gray;box-sizing: border-box;top: 0;bottom: 0;left: 50%;z-index: 0;}#sk-container-id-1 div.sk-serial {display: flex;flex-direction: column;align-items: center;background-color: white;padding-right: 0.2em;padding-left: 0.2em;position: relative;}#sk-container-id-1 div.sk-item {position: relative;z-index: 1;}#sk-container-id-1 div.sk-parallel {display: flex;align-items: stretch;justify-content: center;background-color: white;position: relative;}#sk-container-id-1 div.sk-item::before, #sk-container-id-1 div.sk-parallel-item::before {content: \"\";position: absolute;border-left: 1px solid gray;box-sizing: border-box;top: 0;bottom: 0;left: 50%;z-index: -1;}#sk-container-id-1 div.sk-parallel-item {display: flex;flex-direction: column;z-index: 1;position: relative;background-color: white;}#sk-container-id-1 div.sk-parallel-item:first-child::after {align-self: flex-end;width: 50%;}#sk-container-id-1 div.sk-parallel-item:last-child::after {align-self: flex-start;width: 50%;}#sk-container-id-1 div.sk-parallel-item:only-child::after {width: 0;}#sk-container-id-1 div.sk-dashed-wrapped {border: 1px dashed gray;margin: 0 0.4em 0.5em 0.4em;box-sizing: border-box;padding-bottom: 0.4em;background-color: white;}#sk-container-id-1 div.sk-label label {font-family: monospace;font-weight: bold;display: inline-block;line-height: 1.2em;}#sk-container-id-1 div.sk-label-container {text-align: center;}#sk-container-id-1 div.sk-container {/* jupyter's `normalize.less` sets `[hidden] { display: none; }` but bootstrap.min.css set `[hidden] { display: none !important; }` so we also need the `!important` here to be able to override the default hidden behavior on the sphinx rendered scikit-learn.org. See: https://github.com/scikit-learn/scikit-learn/issues/21755 */display: inline-block !important;position: relative;}#sk-container-id-1 div.sk-text-repr-fallback {display: none;}</style><div id=\"sk-container-id-1\" class=\"sk-top-container\"><div class=\"sk-text-repr-fallback\"><pre>RandomForestRegressor(n_estimators=10000, random_state=42)</pre><b>In a Jupyter environment, please rerun this cell to show the HTML representation or trust the notebook. <br />On GitHub, the HTML representation is unable to render, please try loading this page with nbviewer.org.</b></div><div class=\"sk-container\" hidden><div class=\"sk-item\"><div class=\"sk-estimator sk-toggleable\"><input class=\"sk-toggleable__control sk-hidden--visually\" id=\"sk-estimator-id-1\" type=\"checkbox\" checked><label for=\"sk-estimator-id-1\" class=\"sk-toggleable__label sk-toggleable__label-arrow\">RandomForestRegressor</label><div class=\"sk-toggleable__content\"><pre>RandomForestRegressor(n_estimators=10000, random_state=42)</pre></div></div></div></div></div>"
      ],
      "text/plain": [
       "RandomForestRegressor(n_estimators=10000, random_state=42)"
      ]
     },
     "execution_count": 6,
     "metadata": {},
     "output_type": "execute_result"
    }
   ],
   "source": [
    "model_xG.fit(X, y_xG)\n",
    "model_xA.fit(X, y_xA)"
   ]
  },
  {
   "cell_type": "code",
   "execution_count": 7,
   "metadata": {},
   "outputs": [],
   "source": [
    "current_season = '2023'\n",
    "curr_season_data = merged_data[merged_data['Season'] == current_season]\n",
    "curr_season_features = curr_season_data[X_columns].astype(float)"
   ]
  },
  {
   "cell_type": "code",
   "execution_count": 8,
   "metadata": {},
   "outputs": [
    {
     "name": "stdout",
     "output_type": "stream",
     "text": [
      "Projected final xG for the current season (2023/2024) based on team data: 12.78\n",
      "Projected final xA for the current season (2023/2024) based on team data: 9.46\n"
     ]
    }
   ],
   "source": [
    "projected_xG = model_xG.predict(curr_season_features)[0]\n",
    "projected_xA = model_xA.predict(curr_season_features)[0]\n",
    "print(f\"Projected final xG for the current season (2023/2024) based on team data: {projected_xG:.2f}\")\n",
    "print(f\"Projected final xA for the current season (2023/2024) based on team data: {projected_xA:.2f}\")\n"
   ]
  },
  {
   "cell_type": "code",
   "execution_count": 9,
   "metadata": {},
   "outputs": [
    {
     "data": {
      "image/png": "[encoded data removed]",
      "text/plain": [
       "<Figure size 640x480 with 1 Axes>"
      ]
     },
     "metadata": {},
     "output_type": "display_data"
    }
   ],
   "source": [
    "# Plotting the bar graph\n",
    "saka_data['Season'] = saka_data['Season'].str.split('/').str[0]\n",
    "seasons = saka_data['Season'].unique()\n",
    "seasons = seasons[seasons != '2023']  # Exclude 2023 season\n",
    "\n",
    "seasons = [int(season) for season in seasons]\n",
    "seasons.sort()  # Sort seasons in ascending order\n",
    "\n",
    "seasons = [str(season) for season in seasons]\n",
    "\n",
    "goals = []\n",
    "assists = []\n",
    "for season in seasons:\n",
    "    season_xgoals = saka_data[saka_data['Season'] == season]['xG'].values[0]\n",
    "    season_xassists = saka_data[saka_data['Season'] == season]['xA'].values[0]\n",
    "    goals.append(season_xgoals)\n",
    "    assists.append(season_xassists)\n",
    "\n",
    "seasons.append('2023')\n",
    "goals.append(projected_xG)\n",
    "assists.append(projected_xA)\n",
    "\n",
    "width = 0.35\n",
    "x = np.arange(len(seasons))\n",
    "\n",
    "fig, ax = plt.subplots()\n",
    "rects1 = ax.bar(x - width/2, goals, width, label='xGoals')\n",
    "rects2 = ax.bar(x + width/2, assists, width, label='xAssists')\n",
    "\n",
    "ax.set_xlabel('Season')\n",
    "ax.set_ylabel('Count')\n",
    "ax.set_title('xGoals and xAssists by Season')\n",
    "ax.set_xticks(x)\n",
    "ax.set_xticklabels(seasons)\n",
    "ax.legend()\n",
    "\n",
    "plt.show()\n"
   ]
  },
  {
   "cell_type": "code",
   "execution_count": null,
   "metadata": {},
   "outputs": [],
   "source": []
  }
 ],
 "metadata": {
  "kernelspec": {
   "display_name": "Python 3 (ipykernel)",
   "language": "python",
   "name": "python3"
  },
  "language_info": {
   "codemirror_mode": {
    "name": "ipython",
    "version": 3
   },
   "file_extension": ".py",
   "mimetype": "text/x-python",
   "name": "python",
   "nbconvert_exporter": "python",
   "pygments_lexer": "ipython3",
   "version": "3.10.13"
  }
 },
 "nbformat": 4,
 "nbformat_minor": 5
}
