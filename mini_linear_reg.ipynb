{
 "cells": [
  {
   "cell_type": "code",
   "execution_count": 1,
   "metadata": {},
   "outputs": [],
   "source": [
    "import pandas as pd\n",
    "import numpy as np\n",
    "from sklearn.linear_model import LinearRegression\n",
    "import matplotlib.pyplot as plt"
   ]
  },
  {
   "cell_type": "code",
   "execution_count": 2,
   "id": "25d217e7",
   "metadata": {},
   "outputs": [
    {
     "data": {
      "text/html": [
       "<div>\n",
       "<style scoped>\n",
       "    .dataframe tbody tr th:only-of-type {\n",
       "        vertical-align: middle;\n",
       "    }\n",
       "\n",
       "    .dataframe tbody tr th {\n",
       "        vertical-align: top;\n",
       "    }\n",
       "\n",
       "    .dataframe thead th {\n",
       "        text-align: right;\n",
       "    }\n",
       "</style>\n",
       "<table border=\"1\" class=\"dataframe\">\n",
       "  <thead>\n",
       "    <tr style=\"text-align: right;\">\n",
       "      <th></th>\n",
       "      <th>No</th>\n",
       "      <th>Season</th>\n",
       "      <th>Team</th>\n",
       "      <th>Apps</th>\n",
       "      <th>Min</th>\n",
       "      <th>G</th>\n",
       "      <th>A</th>\n",
       "      <th>Sh90</th>\n",
       "      <th>KP90</th>\n",
       "      <th>xG</th>\n",
       "      <th>xA</th>\n",
       "      <th>xG90</th>\n",
       "      <th>xA90</th>\n",
       "    </tr>\n",
       "  </thead>\n",
       "  <tbody>\n",
       "    <tr>\n",
       "      <th>0</th>\n",
       "      <td>1</td>\n",
       "      <td>2023</td>\n",
       "      <td>Arsenal</td>\n",
       "      <td>11</td>\n",
       "      <td>962</td>\n",
       "      <td>4</td>\n",
       "      <td>4</td>\n",
       "      <td>2.06</td>\n",
       "      <td>2.34</td>\n",
       "      <td>4.65</td>\n",
       "      <td>3.34</td>\n",
       "      <td>0.44</td>\n",
       "      <td>0.31</td>\n",
       "    </tr>\n",
       "    <tr>\n",
       "      <th>1</th>\n",
       "      <td>2</td>\n",
       "      <td>2022</td>\n",
       "      <td>Arsenal</td>\n",
       "      <td>38</td>\n",
       "      <td>3216</td>\n",
       "      <td>14</td>\n",
       "      <td>11</td>\n",
       "      <td>2.49</td>\n",
       "      <td>2.10</td>\n",
       "      <td>11.30</td>\n",
       "      <td>7.04</td>\n",
       "      <td>0.32</td>\n",
       "      <td>0.20</td>\n",
       "    </tr>\n",
       "    <tr>\n",
       "      <th>2</th>\n",
       "      <td>3</td>\n",
       "      <td>2021</td>\n",
       "      <td>Arsenal</td>\n",
       "      <td>38</td>\n",
       "      <td>3034</td>\n",
       "      <td>11</td>\n",
       "      <td>7</td>\n",
       "      <td>2.88</td>\n",
       "      <td>2.02</td>\n",
       "      <td>9.91</td>\n",
       "      <td>7.63</td>\n",
       "      <td>0.29</td>\n",
       "      <td>0.23</td>\n",
       "    </tr>\n",
       "    <tr>\n",
       "      <th>3</th>\n",
       "      <td>4</td>\n",
       "      <td>2020</td>\n",
       "      <td>Arsenal</td>\n",
       "      <td>32</td>\n",
       "      <td>2577</td>\n",
       "      <td>5</td>\n",
       "      <td>3</td>\n",
       "      <td>2.13</td>\n",
       "      <td>1.33</td>\n",
       "      <td>7.17</td>\n",
       "      <td>4.51</td>\n",
       "      <td>0.25</td>\n",
       "      <td>0.16</td>\n",
       "    </tr>\n",
       "    <tr>\n",
       "      <th>4</th>\n",
       "      <td>5</td>\n",
       "      <td>2019</td>\n",
       "      <td>Arsenal</td>\n",
       "      <td>26</td>\n",
       "      <td>1769</td>\n",
       "      <td>1</td>\n",
       "      <td>5</td>\n",
       "      <td>0.66</td>\n",
       "      <td>1.07</td>\n",
       "      <td>1.14</td>\n",
       "      <td>3.68</td>\n",
       "      <td>0.06</td>\n",
       "      <td>0.19</td>\n",
       "    </tr>\n",
       "  </tbody>\n",
       "</table>\n",
       "</div>"
      ],
      "text/plain": [
       "   No Season     Team  Apps   Min   G   A  Sh90  KP90     xG    xA  xG90  xA90\n",
       "0   1   2023  Arsenal    11   962   4   4  2.06  2.34   4.65  3.34  0.44  0.31\n",
       "1   2   2022  Arsenal    38  3216  14  11  2.49  2.10  11.30  7.04  0.32  0.20\n",
       "2   3   2021  Arsenal    38  3034  11   7  2.88  2.02   9.91  7.63  0.29  0.23\n",
       "3   4   2020  Arsenal    32  2577   5   3  2.13  1.33   7.17  4.51  0.25  0.16\n",
       "4   5   2019  Arsenal    26  1769   1   5  0.66  1.07   1.14  3.68  0.06  0.19"
      ]
     },
     "execution_count": 2,
     "metadata": {},
     "output_type": "execute_result"
    }
   ],
   "source": [
    "data = pd.read_csv('bukayo_saka_data.csv')\n",
    "data['Season'] = data['Season'].str.split('/').str[0]\n",
    "data"
   ]
  },
  {
   "cell_type": "code",
   "execution_count": 3,
   "id": "19b70675",
   "metadata": {},
   "outputs": [],
   "source": [
    "tr_data = data\n",
    "tr_data = tr_data.drop(0)"
   ]
  },
  {
   "cell_type": "code",
   "execution_count": 4,
   "id": "44442aae",
   "metadata": {},
   "outputs": [],
   "source": [
    "current_season = '2023'\n",
    "predicted_apps = 37"
   ]
  },
  {
   "cell_type": "code",
   "execution_count": 5,
   "id": "4ff11c57",
   "metadata": {},
   "outputs": [
    {
     "data": {
      "text/html": [
       "<div>\n",
       "<style scoped>\n",
       "    .dataframe tbody tr th:only-of-type {\n",
       "        vertical-align: middle;\n",
       "    }\n",
       "\n",
       "    .dataframe tbody tr th {\n",
       "        vertical-align: top;\n",
       "    }\n",
       "\n",
       "    .dataframe thead th {\n",
       "        text-align: right;\n",
       "    }\n",
       "</style>\n",
       "<table border=\"1\" class=\"dataframe\">\n",
       "  <thead>\n",
       "    <tr style=\"text-align: right;\">\n",
       "      <th></th>\n",
       "      <th>No</th>\n",
       "      <th>Season</th>\n",
       "      <th>Team</th>\n",
       "      <th>Apps</th>\n",
       "      <th>Min</th>\n",
       "      <th>G</th>\n",
       "      <th>A</th>\n",
       "      <th>Sh90</th>\n",
       "      <th>KP90</th>\n",
       "      <th>xG</th>\n",
       "      <th>xA</th>\n",
       "      <th>xG90</th>\n",
       "      <th>xA90</th>\n",
       "      <th>xG_trend</th>\n",
       "      <th>xA_trend</th>\n",
       "    </tr>\n",
       "  </thead>\n",
       "  <tbody>\n",
       "    <tr>\n",
       "      <th>0</th>\n",
       "      <td>1</td>\n",
       "      <td>2023</td>\n",
       "      <td>Arsenal</td>\n",
       "      <td>11</td>\n",
       "      <td>962</td>\n",
       "      <td>4</td>\n",
       "      <td>4</td>\n",
       "      <td>2.06</td>\n",
       "      <td>2.34</td>\n",
       "      <td>4.65</td>\n",
       "      <td>3.34</td>\n",
       "      <td>0.44</td>\n",
       "      <td>0.31</td>\n",
       "      <td>15.640909</td>\n",
       "      <td>11.234545</td>\n",
       "    </tr>\n",
       "    <tr>\n",
       "      <th>1</th>\n",
       "      <td>2</td>\n",
       "      <td>2022</td>\n",
       "      <td>Arsenal</td>\n",
       "      <td>38</td>\n",
       "      <td>3216</td>\n",
       "      <td>14</td>\n",
       "      <td>11</td>\n",
       "      <td>2.49</td>\n",
       "      <td>2.10</td>\n",
       "      <td>11.30</td>\n",
       "      <td>7.04</td>\n",
       "      <td>0.32</td>\n",
       "      <td>0.20</td>\n",
       "      <td>11.002632</td>\n",
       "      <td>6.854737</td>\n",
       "    </tr>\n",
       "    <tr>\n",
       "      <th>2</th>\n",
       "      <td>3</td>\n",
       "      <td>2021</td>\n",
       "      <td>Arsenal</td>\n",
       "      <td>38</td>\n",
       "      <td>3034</td>\n",
       "      <td>11</td>\n",
       "      <td>7</td>\n",
       "      <td>2.88</td>\n",
       "      <td>2.02</td>\n",
       "      <td>9.91</td>\n",
       "      <td>7.63</td>\n",
       "      <td>0.29</td>\n",
       "      <td>0.23</td>\n",
       "      <td>9.649211</td>\n",
       "      <td>7.429211</td>\n",
       "    </tr>\n",
       "    <tr>\n",
       "      <th>3</th>\n",
       "      <td>4</td>\n",
       "      <td>2020</td>\n",
       "      <td>Arsenal</td>\n",
       "      <td>32</td>\n",
       "      <td>2577</td>\n",
       "      <td>5</td>\n",
       "      <td>3</td>\n",
       "      <td>2.13</td>\n",
       "      <td>1.33</td>\n",
       "      <td>7.17</td>\n",
       "      <td>4.51</td>\n",
       "      <td>0.25</td>\n",
       "      <td>0.16</td>\n",
       "      <td>8.290313</td>\n",
       "      <td>5.214688</td>\n",
       "    </tr>\n",
       "    <tr>\n",
       "      <th>4</th>\n",
       "      <td>5</td>\n",
       "      <td>2019</td>\n",
       "      <td>Arsenal</td>\n",
       "      <td>26</td>\n",
       "      <td>1769</td>\n",
       "      <td>1</td>\n",
       "      <td>5</td>\n",
       "      <td>0.66</td>\n",
       "      <td>1.07</td>\n",
       "      <td>1.14</td>\n",
       "      <td>3.68</td>\n",
       "      <td>0.06</td>\n",
       "      <td>0.19</td>\n",
       "      <td>1.622308</td>\n",
       "      <td>5.236923</td>\n",
       "    </tr>\n",
       "  </tbody>\n",
       "</table>\n",
       "</div>"
      ],
      "text/plain": [
       "   No Season     Team  Apps   Min   G   A  Sh90  KP90     xG    xA  xG90  \\\n",
       "0   1   2023  Arsenal    11   962   4   4  2.06  2.34   4.65  3.34  0.44   \n",
       "1   2   2022  Arsenal    38  3216  14  11  2.49  2.10  11.30  7.04  0.32   \n",
       "2   3   2021  Arsenal    38  3034  11   7  2.88  2.02   9.91  7.63  0.29   \n",
       "3   4   2020  Arsenal    32  2577   5   3  2.13  1.33   7.17  4.51  0.25   \n",
       "4   5   2019  Arsenal    26  1769   1   5  0.66  1.07   1.14  3.68  0.06   \n",
       "\n",
       "   xA90   xG_trend   xA_trend  \n",
       "0  0.31  15.640909  11.234545  \n",
       "1  0.20  11.002632   6.854737  \n",
       "2  0.23   9.649211   7.429211  \n",
       "3  0.16   8.290313   5.214688  \n",
       "4  0.19   1.622308   5.236923  "
      ]
     },
     "execution_count": 5,
     "metadata": {},
     "output_type": "execute_result"
    }
   ],
   "source": [
    "data['xG_trend'] = data['xG'] / data['Apps'] * predicted_apps\n",
    "data['xA_trend'] = data['xA'] / data['Apps'] * predicted_apps\n",
    "data"
   ]
  },
  {
   "cell_type": "code",
   "execution_count": 6,
   "id": "ba11ebcb",
   "metadata": {},
   "outputs": [],
   "source": [
    "model_xG = LinearRegression()\n",
    "model_xA = LinearRegression()"
   ]
  },
  {
   "cell_type": "code",
   "execution_count": 7,
   "id": "d447263f",
   "metadata": {},
   "outputs": [],
   "source": [
    "X_xG = data[['Season']].astype(int).values\n",
    "y_xG = data['xG_trend'].values\n",
    "X_xA = data[['Season']].astype(int).values\n",
    "y_xA = data['xA_trend'].values"
   ]
  },
  {
   "cell_type": "code",
   "execution_count": 8,
   "id": "72a68589",
   "metadata": {},
   "outputs": [
    {
     "data": {
      "text/html": [
       "<style>#sk-container-id-1 {color: black;}#sk-container-id-1 pre{padding: 0;}#sk-container-id-1 div.sk-toggleable {background-color: white;}#sk-container-id-1 label.sk-toggleable__label {cursor: pointer;display: block;width: 100%;margin-bottom: 0;padding: 0.3em;box-sizing: border-box;text-align: center;}#sk-container-id-1 label.sk-toggleable__label-arrow:before {content: \"▸\";float: left;margin-right: 0.25em;color: #696969;}#sk-container-id-1 label.sk-toggleable__label-arrow:hover:before {color: black;}#sk-container-id-1 div.sk-estimator:hover label.sk-toggleable__label-arrow:before {color: black;}#sk-container-id-1 div.sk-toggleable__content {max-height: 0;max-width: 0;overflow: hidden;text-align: left;background-color: #f0f8ff;}#sk-container-id-1 div.sk-toggleable__content pre {margin: 0.2em;color: black;border-radius: 0.25em;background-color: #f0f8ff;}#sk-container-id-1 input.sk-toggleable__control:checked~div.sk-toggleable__content {max-height: 200px;max-width: 100%;overflow: auto;}#sk-container-id-1 input.sk-toggleable__control:checked~label.sk-toggleable__label-arrow:before {content: \"▾\";}#sk-container-id-1 div.sk-estimator input.sk-toggleable__control:checked~label.sk-toggleable__label {background-color: #d4ebff;}#sk-container-id-1 div.sk-label input.sk-toggleable__control:checked~label.sk-toggleable__label {background-color: #d4ebff;}#sk-container-id-1 input.sk-hidden--visually {border: 0;clip: rect(1px 1px 1px 1px);clip: rect(1px, 1px, 1px, 1px);height: 1px;margin: -1px;overflow: hidden;padding: 0;position: absolute;width: 1px;}#sk-container-id-1 div.sk-estimator {font-family: monospace;background-color: #f0f8ff;border: 1px dotted black;border-radius: 0.25em;box-sizing: border-box;margin-bottom: 0.5em;}#sk-container-id-1 div.sk-estimator:hover {background-color: #d4ebff;}#sk-container-id-1 div.sk-parallel-item::after {content: \"\";width: 100%;border-bottom: 1px solid gray;flex-grow: 1;}#sk-container-id-1 div.sk-label:hover label.sk-toggleable__label {background-color: #d4ebff;}#sk-container-id-1 div.sk-serial::before {content: \"\";position: absolute;border-left: 1px solid gray;box-sizing: border-box;top: 0;bottom: 0;left: 50%;z-index: 0;}#sk-container-id-1 div.sk-serial {display: flex;flex-direction: column;align-items: center;background-color: white;padding-right: 0.2em;padding-left: 0.2em;position: relative;}#sk-container-id-1 div.sk-item {position: relative;z-index: 1;}#sk-container-id-1 div.sk-parallel {display: flex;align-items: stretch;justify-content: center;background-color: white;position: relative;}#sk-container-id-1 div.sk-item::before, #sk-container-id-1 div.sk-parallel-item::before {content: \"\";position: absolute;border-left: 1px solid gray;box-sizing: border-box;top: 0;bottom: 0;left: 50%;z-index: -1;}#sk-container-id-1 div.sk-parallel-item {display: flex;flex-direction: column;z-index: 1;position: relative;background-color: white;}#sk-container-id-1 div.sk-parallel-item:first-child::after {align-self: flex-end;width: 50%;}#sk-container-id-1 div.sk-parallel-item:last-child::after {align-self: flex-start;width: 50%;}#sk-container-id-1 div.sk-parallel-item:only-child::after {width: 0;}#sk-container-id-1 div.sk-dashed-wrapped {border: 1px dashed gray;margin: 0 0.4em 0.5em 0.4em;box-sizing: border-box;padding-bottom: 0.4em;background-color: white;}#sk-container-id-1 div.sk-label label {font-family: monospace;font-weight: bold;display: inline-block;line-height: 1.2em;}#sk-container-id-1 div.sk-label-container {text-align: center;}#sk-container-id-1 div.sk-container {/* jupyter's `normalize.less` sets `[hidden] { display: none; }` but bootstrap.min.css set `[hidden] { display: none !important; }` so we also need the `!important` here to be able to override the default hidden behavior on the sphinx rendered scikit-learn.org. See: https://github.com/scikit-learn/scikit-learn/issues/21755 */display: inline-block !important;position: relative;}#sk-container-id-1 div.sk-text-repr-fallback {display: none;}</style><div id=\"sk-container-id-1\" class=\"sk-top-container\"><div class=\"sk-text-repr-fallback\"><pre>LinearRegression()</pre><b>In a Jupyter environment, please rerun this cell to show the HTML representation or trust the notebook. <br />On GitHub, the HTML representation is unable to render, please try loading this page with nbviewer.org.</b></div><div class=\"sk-container\" hidden><div class=\"sk-item\"><div class=\"sk-estimator sk-toggleable\"><input class=\"sk-toggleable__control sk-hidden--visually\" id=\"sk-estimator-id-1\" type=\"checkbox\" checked><label for=\"sk-estimator-id-1\" class=\"sk-toggleable__label sk-toggleable__label-arrow\">LinearRegression</label><div class=\"sk-toggleable__content\"><pre>LinearRegression()</pre></div></div></div></div></div>"
      ],
      "text/plain": [
       "LinearRegression()"
      ]
     },
     "execution_count": 8,
     "metadata": {},
     "output_type": "execute_result"
    }
   ],
   "source": [
    "model_xG.fit(X_xG, y_xG)\n",
    "model_xA.fit(X_xA, y_xA)"
   ]
  },
  {
   "cell_type": "code",
   "execution_count": 9,
   "id": "5c3b4140",
   "metadata": {},
   "outputs": [],
   "source": [
    "curr_season_xG = data[data['Season'] == current_season]['xG'].values[0]\n",
    "curr_season_xA = data[data['Season'] == current_season]['xA'].values[0]"
   ]
  },
  {
   "cell_type": "code",
   "execution_count": 10,
   "id": "0811e715",
   "metadata": {},
   "outputs": [],
   "source": [
    "projected_xG = curr_season_xG + model_xG.predict([[int(current_season)]])[0]\n",
    "projected_xA = curr_season_xA + model_xA.predict([[int(current_season)]])[0]"
   ]
  },
  {
   "cell_type": "code",
   "execution_count": 14,
   "id": "24bc6fcd",
   "metadata": {},
   "outputs": [
    {
     "name": "stdout",
     "output_type": "stream",
     "text": [
      "Projected final xG (Linear Regression): 20.04\n",
      "Projected final xA (Linear Regression): 13.26\n"
     ]
    }
   ],
   "source": [
    "print(f\"Projected final xG (Linear Regression): {projected_xG:.2f}\")\n",
    "print(f\"Projected final xA (Linear Regression): {projected_xA:.2f}\")"
   ]
  },
  {
   "cell_type": "code",
   "execution_count": 13,
   "id": "48042bf8",
   "metadata": {},
   "outputs": [
    {
     "data": {
      "image/png": "[encoded data removed]",
      "text/plain": [
       "<Figure size 640x480 with 1 Axes>"
      ]
     },
     "metadata": {},
     "output_type": "display_data"
    }
   ],
   "source": [
    "seasons = data['Season'].unique()\n",
    "seasons = seasons[seasons != '2023']  # Exclude 2023 season\n",
    "\n",
    "seasons = [int(season) for season in seasons]\n",
    "seasons.sort()  # Sort seasons in ascending order\n",
    "\n",
    "seasons = [str(season) for season in seasons]\n",
    "\n",
    "goals = []\n",
    "assists = []\n",
    "for season in seasons:\n",
    "    season_goals = data[data['Season'] == season]['G'].values[0]\n",
    "    season_assists = data[data['Season'] == season]['A'].values[0]\n",
    "    goals.append(season_goals)\n",
    "    assists.append(season_assists)\n",
    "\n",
    "seasons.append('2023')\n",
    "goals.append(projected_xG)\n",
    "assists.append(projected_xA)\n",
    "\n",
    "width = 0.35\n",
    "x = np.arange(len(seasons))\n",
    "\n",
    "fig, ax = plt.subplots()\n",
    "rects1 = ax.bar(x - width/2, goals, width, label='xGoals')\n",
    "rects2 = ax.bar(x + width/2, assists, width, label='xAssists')\n",
    "\n",
    "ax.set_xlabel('Season')\n",
    "ax.set_ylabel('Count')\n",
    "ax.set_title('xGoals and xAssists by Season (Linear Regression)')\n",
    "ax.set_xticks(x)\n",
    "ax.set_xticklabels(seasons)\n",
    "ax.legend()\n",
    "\n",
    "plt.show()\n"
   ]
  },
  {
   "cell_type": "code",
   "execution_count": null,
   "metadata": {},
   "outputs": [],
   "source": []
  }
 ],
 "metadata": {
  "kernelspec": {
   "display_name": "Python 3 (ipykernel)",
   "language": "python",
   "name": "python3"
  },
  "language_info": {
   "codemirror_mode": {
    "name": "ipython",
    "version": 3
   },
   "file_extension": ".py",
   "mimetype": "text/x-python",
   "name": "python",
   "nbconvert_exporter": "python",
   "pygments_lexer": "ipython3",
   "version": "3.10.13"
  }
 },
 "nbformat": 4,
 "nbformat_minor": 5
}
